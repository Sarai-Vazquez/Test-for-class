{
 "cells": [
  {
   "cell_type": "markdown",
   "metadata": {},
   "source": [
    "### López Ponce Brenda Dafne GitHub: DafneLopez27\n",
    "### Padrón Tafoya Manuel Alejandro GitHub: PadrónManuel\n",
    "### Vázquez Juárez Sarai GitHub: Sarai-Vazquez"
   ]
  },
  {
   "cell_type": "markdown",
   "metadata": {},
   "source": [
    "# Indice\n",
    "* [Ejercicio 1](#Ejercicio-1)\n",
    "* [Ejercicio 2](#Ejercicio-2)\n",
    "* [Ejercicio 3](#Ejercicio-3)\n",
    "* [Ejercicio 4](#Ejercicio-4)\n",
    "* [Ejercicio 5](#Ejercicio-5)\n",
    "* [Ejercicio 6](#Ejercicio-6)\n",
    "* [Ejercicio 7](#Ejercicio-7)\n",
    "* [Ejercicio 8](#Ejercicio-8)\n",
    "* [Ejercicio 9](#Ejercicio-9)\n",
    "* [Ejercicio 10](#Ejercicio-10)"
   ]
  },
  {
   "cell_type": "markdown",
   "metadata": {},
   "source": [
    "## Ejercicio 1"
   ]
  },
  {
   "cell_type": "markdown",
   "metadata": {},
   "source": [
    "## *Escriba un ciclo que genere todos los enteros entre 0 y n.*"
   ]
  },
  {
   "cell_type": "code",
   "execution_count": 25,
   "metadata": {},
   "outputs": [
    {
     "data": {
      "text/plain": [
       "[0, 1, 2, 3, 4, 5, 6, 7, 8, 9, 10, 11, 12, 13, 14, 15, 16, 17, 18, 19]"
      ]
     },
     "execution_count": 25,
     "metadata": {},
     "output_type": "execute_result"
    }
   ],
   "source": [
    "x = range(20)\n",
    "list(x)"
   ]
  },
  {
   "cell_type": "markdown",
   "metadata": {},
   "source": [
    "## Ejercicio 2"
   ]
  },
  {
   "cell_type": "markdown",
   "metadata": {},
   "source": [
    "## *Escriba un ciclo que genere todos los numeros pares entre 0 y n*"
   ]
  },
  {
   "cell_type": "code",
   "execution_count": 21,
   "metadata": {},
   "outputs": [
    {
     "name": "stdout",
     "output_type": "stream",
     "text": [
      "2\n",
      "4\n",
      "6\n",
      "8\n",
      "10\n"
     ]
    }
   ],
   "source": [
    "x=1\n",
    "while(x<=10):\n",
    "  if(x%2 == 0):\n",
    "    print(x)\n",
    "  x=x+1"
   ]
  },
  {
   "cell_type": "markdown",
   "metadata": {},
   "source": [
    "## Ejercicio 3"
   ]
  },
  {
   "cell_type": "markdown",
   "metadata": {},
   "source": [
    "## *Escriba un ciclo que genere todo los numeros impares entre 0 y n*"
   ]
  },
  {
   "cell_type": "code",
   "execution_count": 1,
   "metadata": {},
   "outputs": [
    {
     "name": "stdout",
     "output_type": "stream",
     "text": [
      "3\n",
      "5\n",
      "7\n",
      "9\n",
      "11\n",
      "13\n",
      "15\n",
      "17\n",
      "19\n"
     ]
    }
   ],
   "source": [
    "for x in range(3, 20, 2):\n",
    "  print(x)"
   ]
  },
  {
   "cell_type": "markdown",
   "metadata": {},
   "source": [
    "## Ejercicio 4"
   ]
  },
  {
   "cell_type": "markdown",
   "metadata": {},
   "source": [
    "## *Calcule, usando un ciclo, la suma de los primero n naturales. Sin usar la formula de Gauss.*"
   ]
  },
  {
   "cell_type": "code",
   "execution_count": 28,
   "metadata": {},
   "outputs": [
    {
     "data": {
      "text/plain": [
       "55"
      ]
     },
     "execution_count": 28,
     "metadata": {},
     "output_type": "execute_result"
    }
   ],
   "source": [
    "1 + 2 + 3 + 4 + 5 + 6 + 7 + 8 + 9 + 10"
   ]
  },
  {
   "cell_type": "code",
   "execution_count": 27,
   "metadata": {},
   "outputs": [
    {
     "name": "stdout",
     "output_type": "stream",
     "text": [
      "1\n",
      "2\n",
      "3\n",
      "4\n",
      "5\n",
      "6\n",
      "7\n",
      "8\n",
      "9\n",
      "10\n",
      "55\n"
     ]
    }
   ],
   "source": [
    "count = 1\n",
    "n = 10\n",
    "my_sum = 0\n",
    "\n",
    "while count <= n:\n",
    "    print(count)\n",
    "    my_sum = my_sum + count\n",
    "    count = count + 1\n",
    "    \n",
    "print(my_sum)"
   ]
  },
  {
   "cell_type": "markdown",
   "metadata": {},
   "source": [
    "## Ejercicio 5"
   ]
  },
  {
   "cell_type": "markdown",
   "metadata": {},
   "source": [
    "##  *La serie o sucesión de Fibonacci*"
   ]
  },
  {
   "cell_type": "code",
   "execution_count": 33,
   "metadata": {},
   "outputs": [
    {
     "name": "stdout",
     "output_type": "stream",
     "text": [
      "0 1 1 2 3 5 8 13 21 34 55 89 144 233 377 610 987 1597 2584 4181 6765 \n"
     ]
    }
   ],
   "source": [
    "def fib(n):\n",
    "    a, b = 0,1\n",
    "    while a < n:\n",
    "        print(a, end= \" \")\n",
    "        a, b = b, a+b\n",
    "    print()\n",
    "fib(10000)      "
   ]
  },
  {
   "cell_type": "markdown",
   "metadata": {},
   "source": [
    "## Ejercicio 6"
   ]
  },
  {
   "cell_type": "markdown",
   "metadata": {},
   "source": [
    "##  *Escriba un ciclo que regrese True si un numero es primo y False de lo contrario.*"
   ]
  },
  {
   "cell_type": "code",
   "execution_count": 43,
   "metadata": {},
   "outputs": [
    {
     "name": "stdout",
     "output_type": "stream",
     "text": [
      "¿5 es primo? True\n"
     ]
    }
   ],
   "source": [
    "n =  5\n",
    "i = 2\n",
    "isprime = True\n",
    "\n",
    "while i < n:\n",
    "    if n%i == 0:\n",
    "        isprime = False\n",
    "        #print(f'{n} no es primo')\n",
    "        break\n",
    "    else:\n",
    "    \n",
    "        i = i + 1\n",
    "    \n",
    "print(f'¿{n} es primo?', isprime)\n"
   ]
  },
  {
   "cell_type": "markdown",
   "metadata": {},
   "source": [
    "## Ejercicio 7"
   ]
  },
  {
   "cell_type": "markdown",
   "metadata": {},
   "source": [
    "## *Implemente una funcion que se llame primes() que reciba un numero n y que regrese una lista con los primos entre 1 y n.*"
   ]
  },
  {
   "cell_type": "code",
   "execution_count": 24,
   "metadata": {},
   "outputs": [
    {
     "name": "stdout",
     "output_type": "stream",
     "text": [
      "[2, 3, 5, 7, 11, 13, 17, 19, 23, 29, 31, 37, 41, 43]\n"
     ]
    }
   ],
   "source": [
    "i = 2\n",
    "n = 45\n",
    "primes = []\n",
    "\n",
    "while i<n:\n",
    "\n",
    "    if is_prime(i):\n",
    "        primes.append(i)\n",
    "    i += 1 # i = i + 1\n",
    "    \n",
    "print(primes)  \n"
   ]
  },
  {
   "cell_type": "markdown",
   "metadata": {},
   "source": [
    "## Ejercicio 8"
   ]
  },
  {
   "cell_type": "markdown",
   "metadata": {},
   "source": [
    "##  *Mediante el operador de asignacion defina una variable que se llame list of primes a partir de la funcion primes(n) para algun n.*"
   ]
  },
  {
   "cell_type": "raw",
   "metadata": {},
   "source": [
    "Profesor no pudimos realizar este ejercicio porque no teniamos los conocimientos, así que revisamos el notebook y no enconcontramos dicha información, por lo cual tuvimos que buscar en otras fuentes pero nos salian códigos que no entendiamos y que no habiamos visto. "
   ]
  },
  {
   "cell_type": "markdown",
   "metadata": {},
   "source": [
    "## Ejercicio 9"
   ]
  },
  {
   "cell_type": "markdown",
   "metadata": {},
   "source": [
    "## *Escriba una función que se llame *my_factorial()* que reciba un número \"n\" del tipo *int* y regrese el factorial de este.*"
   ]
  },
  {
   "cell_type": "code",
   "execution_count": 66,
   "metadata": {},
   "outputs": [],
   "source": [
    "def factorial(n):\n",
    "    productoria = 1\n",
    "    i = 2\n",
    "    while i <= n:\n",
    "        prodctoria *= i\n",
    "        i+=1\n",
    "    return productoria "
   ]
  },
  {
   "cell_type": "code",
   "execution_count": 70,
   "metadata": {},
   "outputs": [
    {
     "data": {
      "text/plain": [
       "24"
      ]
     },
     "execution_count": 70,
     "metadata": {},
     "output_type": "execute_result"
    }
   ],
   "source": [
    "factorial(4)"
   ]
  },
  {
   "cell_type": "markdown",
   "metadata": {},
   "source": [
    "## Ejercicio 10"
   ]
  },
  {
   "cell_type": "markdown",
   "metadata": {},
   "source": [
    "## *Escriba un ciclo que genera una serie de cadenas de la forma: *date-1.txt, date-2.txt, etc* hasta \"n\" un número proporcionado por el usuario *date-n.txt.**"
   ]
  },
  {
   "cell_type": "code",
   "execution_count": 21,
   "metadata": {},
   "outputs": [
    {
     "name": "stdout",
     "output_type": "stream",
     "text": [
      "introduzca un número : 10\n",
      "date-1.txt.\n",
      "date-2.txt.\n",
      "date-3.txt.\n",
      "date-4.txt.\n",
      "date-5.txt.\n",
      "date-6.txt.\n",
      "date-7.txt.\n",
      "date-8.txt.\n",
      "date-9.txt.\n",
      "date-10.txt.\n"
     ]
    }
   ],
   "source": [
    "n = input(\"introduzca un número : \")\n",
    "n = int(n)\n",
    "a = 'date-'\n",
    "c = '.txt.'\n",
    "datos = []\n",
    "i = 1\n",
    "\n",
    "while i < n +1 :\n",
    "    \n",
    "    print(a+f\"{i}\"+c)\n",
    "    \n",
    "    i = i + 1"
   ]
  },
  {
   "cell_type": "code",
   "execution_count": null,
   "metadata": {},
   "outputs": [],
   "source": []
  },
  {
   "cell_type": "code",
   "execution_count": null,
   "metadata": {},
   "outputs": [],
   "source": []
  }
 ],
 "metadata": {
  "kernelspec": {
   "display_name": "Python 3",
   "language": "python",
   "name": "python3"
  },
  "language_info": {
   "codemirror_mode": {
    "name": "ipython",
    "version": 3
   },
   "file_extension": ".py",
   "mimetype": "text/x-python",
   "name": "python",
   "nbconvert_exporter": "python",
   "pygments_lexer": "ipython3",
   "version": "3.8.3"
  }
 },
 "nbformat": 4,
 "nbformat_minor": 4
}
